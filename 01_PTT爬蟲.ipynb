{
 "cells": [
  {
   "cell_type": "code",
   "execution_count": 1,
   "metadata": {
    "collapsed": true
   },
   "outputs": [],
   "source": [
    "import requests\n",
    "import pandas as pd\n",
    "from bs4 import BeautifulSoup\n",
    "from tqdm import tqdm_notebook"
   ]
  },
  {
   "cell_type": "markdown",
   "metadata": {},
   "source": [
    "## Baseball"
   ]
  },
  {
   "cell_type": "code",
   "execution_count": 102,
   "metadata": {
    "collapsed": false
   },
   "outputs": [
    {
     "name": "stderr",
     "output_type": "stream",
     "text": [
      "/Users/andy/anaconda/lib/python3.6/site-packages/bs4/__init__.py:181: UserWarning: No parser was explicitly specified, so I'm using the best available HTML parser for this system (\"lxml\"). This usually isn't a problem, but if you run this code on another system, or in a different virtual environment, it may use a different parser and behave differently.\n",
      "\n",
      "The code that caused this warning is on line 193 of the file /Users/andy/anaconda/lib/python3.6/runpy.py. To get rid of this warning, change code that looks like this:\n",
      "\n",
      " BeautifulSoup(YOUR_MARKUP})\n",
      "\n",
      "to this:\n",
      "\n",
      " BeautifulSoup(YOUR_MARKUP, \"lxml\")\n",
      "\n",
      "  markup_type=markup_type))\n"
     ]
    }
   ],
   "source": [
    "start = 8968\n",
    "author, title, time, content, pos_tag, no_tag, neg_tag, reply_content = [], [], [], [], [], [], [], []\n",
    "pbar = tqdm_notebook(total = len(author))\n",
    "while len(author) < 10000:\n",
    "    res = requests.get(\"https://www.ptt.cc/bbs/Baseball/index\"+str(start)+\".html\")\n",
    "    soup = BeautifulSoup(res.text)\n",
    "    for i in soup.select(\".r-ent\"):\n",
    "        # 限制回文數量\n",
    "        try:\n",
    "            if int(i.select(\".nrec\")[0].text) > 20:\n",
    "                res2 = requests.get(\"https://www.ptt.cc\"+i('a')[0]['href'])\n",
    "                soup2 = BeautifulSoup(res2.text)\n",
    "                author.append(soup2.select(\".article-meta-value\")[0].text)\n",
    "                title.append(soup2.select(\".article-meta-value\")[2].text)\n",
    "                time.append(soup2.select(\".article-meta-value\")[3].text)\n",
    "                content.append(soup2.select(\"#main-content\")[0].text.split(\"※\")[0].split(time[-1])[1])\n",
    "                push_temp, reply_temp = [], ''\n",
    "                for z in range(len(soup2.select(\".push\"))):\n",
    "                    push_temp.append(soup2.select(\".push-tag\")[z].text)\n",
    "                    reply_temp += \" \" + soup2.select(\".push-content\")[z].text\n",
    "                pos_tag.append(push_temp.count('推 '))\n",
    "                no_tag.append(push_temp.count('→ '))\n",
    "                neg_tag.append(push_temp.count('噓 '))\n",
    "                reply_content.append(reply_temp)\n",
    "                pbar.update(1)\n",
    "        except:\n",
    "            pass\n",
    "    start =  start - 1\n",
    "pbar.close()\n",
    "# DataFrame\n",
    "ptt_baseball = list(zip(author, title, time, content, pos_tag, no_tag, neg_tag, reply_content))\n",
    "df = pd.DataFrame(ptt_baseball, columns=['作者','標題','時間','內文','推文','箭頭','噓文','回文'])"
   ]
  },
  {
   "cell_type": "code",
   "execution_count": 103,
   "metadata": {
    "collapsed": false
   },
   "outputs": [
    {
     "name": "stdout",
     "output_type": "stream",
     "text": [
      "<class 'pandas.core.frame.DataFrame'>\n",
      "RangeIndex: 9989 entries, 0 to 9988\n",
      "Data columns (total 8 columns):\n",
      "作者    9989 non-null object\n",
      "標題    9989 non-null object\n",
      "時間    9989 non-null object\n",
      "內文    9989 non-null object\n",
      "推文    9989 non-null int64\n",
      "箭頭    9989 non-null int64\n",
      "噓文    9989 non-null int64\n",
      "回文    9989 non-null object\n",
      "dtypes: int64(3), object(5)\n",
      "memory usage: 624.4+ KB\n"
     ]
    }
   ],
   "source": [
    "df.info()"
   ]
  },
  {
   "cell_type": "code",
   "execution_count": 104,
   "metadata": {
    "collapsed": true
   },
   "outputs": [
    {
     "name": "stderr",
     "output_type": "stream",
     "text": [
      "/Users/andy/anaconda/lib/python3.6/site-packages/xlsxwriter/worksheet.py:830: UserWarning: Ignoring URL 'https://asahichinese-f.com/opinion/11863154%20朝日新聞中文網\n",
      "\n",
      "【母親的背影】職棒投手山崎康晃%20母親的眼淚與「生存意義」\n",
      "\n",
      "末崎毅%20November%2011,%202018\n",
      "\n",
      "%20%20%20%20我的母親是菲律賓出身。在我國小3年級時，她跟我日本人的父親離婚。從此她就白天\n",
      "在工廠，晚上在餐廳工作，撫養我跟大我2歲的姊姊。\n",
      "\n",
      "　　性格開朗的她，從未在我們面前露出沮喪的樣子，也沒有抱怨過任何事。也許是因為\n",
      "她深深覺得在這個異國之地，自己必須保護孩子的關係吧。就算身體不舒服全身無力，當\n",
      "天也一定會去工作。在我記憶裡，小時候幾乎沒有一起在家吃晚飯過。\n",
      "\n",
      "　　儘管如此，她還是會為了週末要出門打棒球的我早起做便當，也曾拖著疲憊的身體陪\n",
      "我練投球。這都讓我覺得很開心。看著母親這樣的身影，每當發現有餐具要洗或換洗衣物\n",
      "還沒整理，我也都會盡量幫忙打理。差不多是念國中的時候，我就訂下了「要成為職業棒\n",
      "球選手，讓媽媽過好日子」的目標。\n",
      "\n",
      "　　這樣的母親，我是在高中時代第一次看到她流淚。當時我無法兼顧棒球跟學業，回家\n",
      "跟她說「我再也不想去學校了」，她聽了就哭著說：「你要是放棄棒球，我就失去生存的\n",
      "意義了」。聽到母親吐露心情，我感受到與往常不同的氣氛。\n",
      "\n",
      "　　她拉我上計程車，把1張5000日圓（約合新台幣1380元）的鈔票交給司機，叫司機送\n",
      "我去學校。她似乎也跟學校聯絡過了，到了帝京高中的校門口，我就發現棒球社總教練前\n",
      "田三夫在等著我。教練對我說：「媽媽這麼努力，不要讓她流淚。再加油一次吧！」因為\n",
      "如此，我得以繼續棒球這條路。高中時期在新人選手選秀會落選，考慮要轉換跑道時，母\n",
      "親也是鼓勵我「你做得到」。\n",
      "\n",
      "　　母親不會直接的說Yes或No，但她總是會為我著想，用言語引導我，讓我能做出好的\n",
      "判斷。「做得到」這個詞成了我的信念，也影響著我現在的工作。因為這個詞能夠非常直\n",
      "白地表現出，在無論任何狀況下我都會勇於面對。\n",
      "\n",
      "　　當我成為職業選手，第一次救援成功後，我說出了「謝謝您全心全意撫養我長大」。\n",
      "這並不是事前想好，而是自然地脫口而出。我想母親應該會為我高興吧。希望自己未來的\n",
      "表現能更加出色，讓母親開心。\n",
      "\n",
      "--\n",
      "\n",
      "山崎康晃（Yamasaki%20Yasuaki）：職棒球員。1992年東京都出生，經帝京高中、亞細亞大\n",
      "學畢業後，2014年新人選手選秀會上獲橫濱海灣之星（DeNA）第1指名入團。第1年便擔任\n",
      "救援投手創下佳績，獲選為新人王。今年4月達成生涯100次救援成功的紀錄。\n",
      "\n",
      "--\n",
      "' with link or location/anchor > 255 characters since it exceeds Excel's limit for URLS\n",
      "  force_unicode(url))\n",
      "/Users/andy/anaconda/lib/python3.6/site-packages/xlsxwriter/worksheet.py:830: UserWarning: Ignoring URL 'http://i.imgur.com/1lt3sGR.jpg\n",
      "\n",
      "重點：\n",
      "\n",
      "△面積與札幌巨蛋相同，五萬平方公尺\n",
      "△因應降雪，採用三角的「切妻屋根」屋頂設計\n",
      "△滑軌式的可開閉屋頂，原則上夏季開啟，冬季關閉保溫\n",
      "△天然草皮，左右非對稱，外野幾乎沒有界外區\n",
      "△外野側的牆面使用透明素材，因應養護天然草皮的採光\n",
      "△世界最大規模螢幕兩面（一面1500平方公尺）\n",
      "△地上四層、地下一層，容納人數三萬五千\n",
      "△為了與周邊環境調和，外觀深褐色\n",
      "△觀眾席呈鉢形傾斜，移動容易\n",
      "△可於災害時收容民眾之用\n",
      "△併有商業、娛樂性設施\n",
      "\n",
      "預計2020年5月動工\n",
      "2023年3月啟用\n",
      "\n",
      "\n",
      "--\n",
      "' with link or location/anchor > 255 characters since it exceeds Excel's limit for URLS\n",
      "  force_unicode(url))\n",
      "/Users/andy/anaconda/lib/python3.6/site-packages/xlsxwriter/worksheet.py:830: UserWarning: Ignoring URL 'http://www.carp.co.jp/news18/n-274.html\n",
      "廣島東洋鯉魚%20將舉辦今年的入團測試會\n",
      "\n",
      "日期：2018年9月29日%20上午十時開始（日本時間）\n",
      "地點：馬自達球場（雨天在廣島東洋鯉魚屋內練習場）\n",
      "\n",
      "應募資格：一、18～24歲健康男性\n",
      "%20%20%20%20%20%20%20%20%20%20二、身高175公分以上\n",
      "\n",
      "應募方法：以明信片郵寄，註明\n",
      "%20%20%20%20%20%20%20%20%20%20【1】氏名　【2】住所　【3】電話番号（携帯番号）　\n",
      "　　　　　【4】生年月日（年齢）%20【5】最終学歴　【6】身長・体重　\n",
      "　　　　　【7】ポジション　%20%20%20%20%20【8】投打の左右別\n",
      "\n",
      "　　　　　寄至：〒732-8501　\n",
      "%20%20%20%20%20%20%20%20%20%20%20%20%20%20%20%20広島市南区南蟹屋二丁目3番1号\n",
      "%20%20%20%20%20%20%20%20%20%20%20%20%20%20%20%20マツダスタジアム内　株式会社広島東洋カープ「入団テスト」係\n",
      "\n",
      "測試項目：第一次：50公尺（6.5秒以內）、遠投（90公尺以上）\n",
      "%20%20%20%20%20%20%20%20%20%20第二次：「投手」投球、「野手」打撃・守備\n",
      "\n",
      "%20%20%20%20%20%20%20%20%20%20第一次測試合格者，才能進行第二次測試。\n",
      "\n",
      "其他：1、應募者，於測試當日8：30前，攜帶球具於馬自達球場正面集合。\n",
      "%20%20%20%20%20%202、交通費、餐費%20自行負擔。\n",
      "%20%20%20%20%20%203、當日8：30～9：00於馬自達球場正面，也接受現場報名。\n",
      "\n",
      "\n",
      "--\n",
      "\n",
      "雖然這是給日本人的報名資訊\n",
      "但我覺得滿有趣的\n",
      "\n",
      "--\n",
      "' with link or location/anchor > 255 characters since it exceeds Excel's limit for URLS\n",
      "  force_unicode(url))\n",
      "/Users/andy/anaconda/lib/python3.6/site-packages/xlsxwriter/worksheet.py:830: UserWarning: Ignoring URL 'https://twitter.com/Mariners/status/1026993664021557248%20Twitter局部特寫版\n",
      "http://www.espn.com/mlb/player/_/id/6194/felix-hernandez%20ESPN球員介紹版\n",
      "https://www.mlb.com/video/must-c-beltre-gets-last-laugh/c-2358954383%20MLB官網版\n",
      "\n",
      "數據%20%20%20局數%20%20%20被安打%20%20%20失分%20%20%20自責%20%20%20%20保送%20%20%20%20三振%20%20%20%20%20WHIP%20%20%20%20ERA\n",
      "%20%20%20%20%20%20%206.0%20%20%20%20%208%20%20%20%20%20%20%2011%20%20%20%20%20%207%20%20%20%20%20%20%204%20%20%20%20%20%20%202%20%20%20%20%20%20%202.00%20%20%20%2010.50\n",
      "\n",
      "KING%20%20Felix%20%20本季表現不穩\n",
      "\n",
      "今天對上德州游騎兵%20%20開局3:0的領先%20%20%20還先三振了好交情的前隊友吹哥\n",
      "\n",
      "吹哥被最後一球速差騙到完全破壞重心只能軟弱出棒吞K\n",
      "\n",
      "KING%20%20Felix%20見狀非常誇張的大笑~~~~~~%20%20下丘還一直指一壘方向休息區\n",
      "\n",
      "不過囂張沒有落魄得久~~~~\n",
      "\n",
      "條子打線三局下開始連續四局灌11分(七分自責)\n",
      "\n",
      "共敲出三支全壘打(Profar+Odor+Beltre)%20%20加上Kyle%20Seager兩次失誤\n",
      "\n",
      "讓Hernandez%20吞下本季第十敗%20%20(8W-10L%20%20ERA%205.73%20WHIP%201.44)\n",
      "\n",
      "這已經是他本季第三次單場丟超過七分自責\n",
      "\n",
      "最後一分還是吹哥補刀轟\n",
      "\n",
      "~(￣▽￣)~(＿△＿)~(￣▽￣)~(＿△＿)~(￣▽￣)~\n",
      "\n",
      "https://twitter.com/Rangers/status/1027035973375250433%20吹哥補刀大棒討回\n",
      "\n",
      "另外同場先發老妖怪八頭龍創拉丁美洲投手最多勝\n",
      "\n",
      "想笑還是等快下場再笑比較好\n",
      "\n",
      "--\n",
      "噓%20bear1***8:%20笑死沒邏輯還敢回原來要課金牌組才能完整喔?04/13%2021:09\n",
      "噓%20bear1***8:%20笑死人丁特就不在名單裡假特粉真可憐01/17%2023:50\n",
      "噓%20bear1***8:%20笑死人沒統神這排名真是笑話統神%3e%3e%3e%3e%3eALL01/03%2019:23\n",
      "噓%20bear1***8:%20笑死%20自以為代風向%20可以桶一桶?%20無聊當有趣30F04/21%2022:38\n",
      "噓%20bear1***8:%20笑死1成88的自殺棒趕快下去05/10%2010:43\n",
      "噓%20bear1***8:%20笑死1成62本來就該下放還伺機回大聯盟勒回中職06/30%2009:05\n",
      "--\n",
      "' with link or location/anchor > 255 characters since it exceeds Excel's limit for URLS\n",
      "  force_unicode(url))\n"
     ]
    }
   ],
   "source": [
    "df.to_excel('PTT棒球版.xlsx', index=False)"
   ]
  },
  {
   "cell_type": "markdown",
   "metadata": {},
   "source": [
    "## C_Chat"
   ]
  },
  {
   "cell_type": "code",
   "execution_count": 107,
   "metadata": {
    "collapsed": false
   },
   "outputs": [
    {
     "name": "stderr",
     "output_type": "stream",
     "text": [
      "/Users/andy/anaconda/lib/python3.6/site-packages/bs4/__init__.py:181: UserWarning: No parser was explicitly specified, so I'm using the best available HTML parser for this system (\"lxml\"). This usually isn't a problem, but if you run this code on another system, or in a different virtual environment, it may use a different parser and behave differently.\n",
      "\n",
      "The code that caused this warning is on line 193 of the file /Users/andy/anaconda/lib/python3.6/runpy.py. To get rid of this warning, change code that looks like this:\n",
      "\n",
      " BeautifulSoup(YOUR_MARKUP})\n",
      "\n",
      "to this:\n",
      "\n",
      " BeautifulSoup(YOUR_MARKUP, \"lxml\")\n",
      "\n",
      "  markup_type=markup_type))\n"
     ]
    }
   ],
   "source": [
    "start = 17543\n",
    "author, title, time, content, pos_tag, no_tag, neg_tag, reply_content = [], [], [], [], [], [], [], []\n",
    "pbar = tqdm_notebook(total = len(author))\n",
    "while len(author) < 10000:\n",
    "    res = requests.get(\"https://www.ptt.cc/bbs/C_Chat/index\"+str(start)+\".html\")\n",
    "    soup = BeautifulSoup(res.text)\n",
    "    for i in soup.select(\".r-ent\"):\n",
    "        # 限制回文數量\n",
    "        try:\n",
    "            if int(i.select(\".nrec\")[0].text) > 20:\n",
    "                res2 = requests.get(\"https://www.ptt.cc\"+i('a')[0]['href'])\n",
    "                soup2 = BeautifulSoup(res2.text)\n",
    "                author.append(soup2.select(\".article-meta-value\")[0].text)\n",
    "                title.append(soup2.select(\".article-meta-value\")[2].text)\n",
    "                time.append(soup2.select(\".article-meta-value\")[3].text)\n",
    "                content.append(soup2.select(\"#main-content\")[0].text.split(\"※\")[0].split(time[-1])[1])\n",
    "                push_temp, reply_temp = [], ''\n",
    "                for z in range(len(soup2.select(\".push\"))):\n",
    "                    push_temp.append(soup2.select(\".push-tag\")[z].text)\n",
    "                    reply_temp += \" \" + soup2.select(\".push-content\")[z].text\n",
    "                pos_tag.append(push_temp.count('推 '))\n",
    "                no_tag.append(push_temp.count('→ '))\n",
    "                neg_tag.append(push_temp.count('噓 '))\n",
    "                reply_content.append(reply_temp)\n",
    "                pbar.update(1)\n",
    "        except:\n",
    "            pass\n",
    "    start =  start - 1\n",
    "pbar.close()\n",
    "# DataFrame\n",
    "ptt_baseball = list(zip(author, title, time, content, pos_tag, no_tag, neg_tag, reply_content))\n",
    "df = pd.DataFrame(ptt_baseball, columns=['作者','標題','時間','內文','推文','箭頭','噓文','回文'])"
   ]
  },
  {
   "cell_type": "code",
   "execution_count": 108,
   "metadata": {
    "collapsed": false
   },
   "outputs": [
    {
     "name": "stdout",
     "output_type": "stream",
     "text": [
      "<class 'pandas.core.frame.DataFrame'>\n",
      "RangeIndex: 9999 entries, 0 to 9998\n",
      "Data columns (total 8 columns):\n",
      "作者    9999 non-null object\n",
      "標題    9999 non-null object\n",
      "時間    9999 non-null object\n",
      "內文    9999 non-null object\n",
      "推文    9999 non-null int64\n",
      "箭頭    9999 non-null int64\n",
      "噓文    9999 non-null int64\n",
      "回文    9999 non-null object\n",
      "dtypes: int64(3), object(5)\n",
      "memory usage: 625.0+ KB\n"
     ]
    }
   ],
   "source": [
    "df.info()"
   ]
  },
  {
   "cell_type": "code",
   "execution_count": 109,
   "metadata": {
    "collapsed": true
   },
   "outputs": [
    {
     "name": "stderr",
     "output_type": "stream",
     "text": [
      "/Users/andy/anaconda/lib/python3.6/site-packages/xlsxwriter/worksheet.py:830: UserWarning: Ignoring URL 'https://i.imgur.com/HvX5Nyg.jpg\n",
      "\n",
      "電撃文庫今日正式發表仲谷鳰老師的人氣百合漫畫《終將成為妳（やがて君になる）》將推出以佐伯沙弥香學姊為主的外傳小說《やがて君になる　佐伯沙弥香について》，而這外傳小說將會由知名《安達與島村（安達としまむら）》系列作者入間人間老師執筆，插圖同樣由原作者仲谷鳰老師繪製，將在11月10日推出。\n",
      "\n",
      "https://i.imgur.com/eE9Sb07.jpg\n",
      "https://i.imgur.com/1NOpknL.jpg\n",
      "\n",
      "《終將成為妳（やがて君になる）》TV動畫將在10月播送，9月先行試映，佐伯沙弥香在動畫中由茅野愛衣配音。\n",
      "\n",
      "https://twitter.com/bunko_dengeki/status/1037899792725073920\n",
      "\n",
      "*補充劇情介紹，基本上就是由沙弥香視點，以小說的方式寫下她對於七海學姊的暗戀!?\n",
      "https://i.imgur.com/NHF3xWY.jpg\n",
      "\n",
      "--\n",
      "【詩羽學姊賜予世人令人屏息兼具實用的美感】\n",
      "https://i.imgur.com/9fCsOOp.gif\n",
      "https://i.imgur.com/EhrKP8C.gif\n",
      "https://i.imgur.com/LPfKNLH.gif\n",
      "https://i.imgur.com/ggUnl0a.gif\n",
      "https://i.imgur.com/Qccx5Cr.gif\n",
      "\n",
      "--\n",
      "' with link or location/anchor > 255 characters since it exceeds Excel's limit for URLS\n",
      "  force_unicode(url))\n"
     ]
    }
   ],
   "source": [
    "df.to_excel('PTT西洽.xlsx', index=False)"
   ]
  },
  {
   "cell_type": "markdown",
   "metadata": {},
   "source": [
    "## Car"
   ]
  },
  {
   "cell_type": "code",
   "execution_count": 110,
   "metadata": {
    "collapsed": false
   },
   "outputs": [
    {
     "name": "stderr",
     "output_type": "stream",
     "text": [
      "/Users/andy/anaconda/lib/python3.6/site-packages/bs4/__init__.py:181: UserWarning: No parser was explicitly specified, so I'm using the best available HTML parser for this system (\"lxml\"). This usually isn't a problem, but if you run this code on another system, or in a different virtual environment, it may use a different parser and behave differently.\n",
      "\n",
      "The code that caused this warning is on line 193 of the file /Users/andy/anaconda/lib/python3.6/runpy.py. To get rid of this warning, change code that looks like this:\n",
      "\n",
      " BeautifulSoup(YOUR_MARKUP})\n",
      "\n",
      "to this:\n",
      "\n",
      " BeautifulSoup(YOUR_MARKUP, \"lxml\")\n",
      "\n",
      "  markup_type=markup_type))\n"
     ]
    }
   ],
   "source": [
    "start = 5009\n",
    "author, title, time, content, pos_tag, no_tag, neg_tag, reply_content = [], [], [], [], [], [], [], []\n",
    "pbar = tqdm_notebook(total = len(author))\n",
    "while len(author) < 10000:\n",
    "    res = requests.get(\"https://www.ptt.cc/bbs/car/index\"+str(start)+\".html\")\n",
    "    soup = BeautifulSoup(res.text)\n",
    "    for i in soup.select(\".r-ent\"):\n",
    "        # 限制回文數量\n",
    "        try:\n",
    "            if int(i.select(\".nrec\")[0].text) > 20:\n",
    "                res2 = requests.get(\"https://www.ptt.cc\"+i('a')[0]['href'])\n",
    "                soup2 = BeautifulSoup(res2.text)\n",
    "                author.append(soup2.select(\".article-meta-value\")[0].text)\n",
    "                title.append(soup2.select(\".article-meta-value\")[2].text)\n",
    "                time.append(soup2.select(\".article-meta-value\")[3].text)\n",
    "                content.append(soup2.select(\"#main-content\")[0].text.split(\"※\")[0].split(time[-1])[1])\n",
    "                push_temp, reply_temp = [], ''\n",
    "                for z in range(len(soup2.select(\".push\"))):\n",
    "                    push_temp.append(soup2.select(\".push-tag\")[z].text)\n",
    "                    reply_temp += \" \" + soup2.select(\".push-content\")[z].text\n",
    "                pos_tag.append(push_temp.count('推 '))\n",
    "                no_tag.append(push_temp.count('→ '))\n",
    "                neg_tag.append(push_temp.count('噓 '))\n",
    "                reply_content.append(reply_temp)\n",
    "                pbar.update(1)\n",
    "        except:\n",
    "            pass\n",
    "    start =  start - 1\n",
    "pbar.close()\n",
    "# DataFrame\n",
    "ptt_baseball = list(zip(author, title, time, content, pos_tag, no_tag, neg_tag, reply_content))\n",
    "df = pd.DataFrame(ptt_baseball, columns=['作者','標題','時間','內文','推文','箭頭','噓文','回文'])"
   ]
  },
  {
   "cell_type": "code",
   "execution_count": 115,
   "metadata": {
    "collapsed": false
   },
   "outputs": [
    {
     "name": "stdout",
     "output_type": "stream",
     "text": [
      "<class 'pandas.core.frame.DataFrame'>\n",
      "RangeIndex: 9986 entries, 0 to 9985\n",
      "Data columns (total 8 columns):\n",
      "作者    9986 non-null object\n",
      "標題    9986 non-null object\n",
      "時間    9986 non-null object\n",
      "內文    9986 non-null object\n",
      "推文    9986 non-null int64\n",
      "箭頭    9986 non-null int64\n",
      "噓文    9986 non-null int64\n",
      "回文    9986 non-null object\n",
      "dtypes: int64(3), object(5)\n",
      "memory usage: 624.2+ KB\n"
     ]
    }
   ],
   "source": [
    "df.info()"
   ]
  },
  {
   "cell_type": "code",
   "execution_count": 116,
   "metadata": {
    "collapsed": true
   },
   "outputs": [
    {
     "name": "stderr",
     "output_type": "stream",
     "text": [
      "/Users/andy/anaconda/lib/python3.6/site-packages/xlsxwriter/worksheet.py:830: UserWarning: Ignoring URL 'https://m.mobile01.com/topicdetail.php?f=444&t=5293502\n",
      "Luxgen%20今年重磅產品一波接一波，繼%20U5%20震撼市場引起熱烈討論後，旗下熱門%20SUV%20U6\n",
      "也?\n",
      "https://i.imgur.com/y9QB7mk.jpg\n",
      "\n",
      "自%20U6%20車系問世以來已經累積多達%203.2%20萬名車主，而這回在全新底盤架構之下，U6%20GT%20/\n",
      "%20G\n",
      "\n",
      "https://i.imgur.com/E8ZhqYS.jpg\n",
      "從動力規格上便可看出，全新%20U6%20GT%20/%20GT%20220%20焦點放在%201.8%20升四缸渦輪增壓動力，而\n",
      "這?\n",
      "而在動力系統之於，U6%20GT%20/%20GT%20220%20外觀、內裝也經過優化，但相對於底盤、動力系統\n",
      "、?\n",
      "\n",
      "至於預售價格方面，可參考以下簡易表格\n",
      "https://i.imgur.com/UwAnnZF.jpg\n",
      "https://i.imgur.com/aI9J53v.jpg\n",
      "https://i.imgur.com/9w8lkGv.jpg\n",
      "https://i.imgur.com/nh5VwCM.jpg\n",
      "https://i.imgur.com/p2HMy2I.jpg\n",
      "https://i.imgur.com/4qDD7Wn.jpg\n",
      "https://i.imgur.com/UvDISY1.jpg\n",
      "https://i.imgur.com/Q7iwoRc.jpg\n",
      "https://i.imgur.com/URvPRu6.jpg\n",
      "--\n",
      "' with link or location/anchor > 255 characters since it exceeds Excel's limit for URLS\n",
      "  force_unicode(url))\n"
     ]
    }
   ],
   "source": [
    "df.to_excel('PTT汽車.xlsx', index=False)"
   ]
  },
  {
   "cell_type": "markdown",
   "metadata": {},
   "source": [
    "## 八卦版"
   ]
  },
  {
   "cell_type": "code",
   "execution_count": 2,
   "metadata": {
    "collapsed": false
   },
   "outputs": [
    {
     "name": "stderr",
     "output_type": "stream",
     "text": [
      "/Users/andy/anaconda/lib/python3.6/site-packages/bs4/__init__.py:181: UserWarning: No parser was explicitly specified, so I'm using the best available HTML parser for this system (\"lxml\"). This usually isn't a problem, but if you run this code on another system, or in a different virtual environment, it may use a different parser and behave differently.\n",
      "\n",
      "The code that caused this warning is on line 193 of the file /Users/andy/anaconda/lib/python3.6/runpy.py. To get rid of this warning, change code that looks like this:\n",
      "\n",
      " BeautifulSoup(YOUR_MARKUP})\n",
      "\n",
      "to this:\n",
      "\n",
      " BeautifulSoup(YOUR_MARKUP, \"lxml\")\n",
      "\n",
      "  markup_type=markup_type))\n"
     ]
    },
    {
     "name": "stdout",
     "output_type": "stream",
     "text": [
      "\n"
     ]
    }
   ],
   "source": [
    "pay_load = {\n",
    "    'from':'/bbs/Gossiping/index.html',\n",
    "    'yes':'yes'\n",
    "}\n",
    "rs = requests.session()\n",
    "res = rs.post('https://www.ptt.cc/ask/over18', data=pay_load)\n",
    "\n",
    "start = 38876\n",
    "author, title, time, content, pos_tag, no_tag, neg_tag, reply_content = [], [], [], [], [], [], [], []\n",
    "pbar = tqdm_notebook(total = len(author))\n",
    "while len(author) < 10000:\n",
    "    res = rs.get(\"https://www.ptt.cc/bbs/Gossiping/index\"+str(start)+\".html\")\n",
    "    soup = BeautifulSoup(res.text)\n",
    "    for i in soup.select(\".r-ent\"):\n",
    "        # 限制回文數量\n",
    "        try:\n",
    "            if int(i.select(\".nrec\")[0].text) > 20:\n",
    "#                 res2 = rs.post('https://www.ptt.cc/ask/over18', data=pay_load)\n",
    "                res2 = rs.get(\"https://www.ptt.cc\"+i('a')[0]['href'])\n",
    "                soup2 = BeautifulSoup(res2.text)\n",
    "                author.append(soup2.select(\".article-meta-value\")[0].text)\n",
    "                title.append(soup2.select(\".article-meta-value\")[2].text)\n",
    "                time.append(soup2.select(\".article-meta-value\")[3].text)\n",
    "                content.append(soup2.select(\"#main-content\")[0].text.split(\"※\")[0].split(time[-1])[1])\n",
    "                push_temp, reply_temp = [], ''\n",
    "                for z in range(len(soup2.select(\".push\"))):\n",
    "                    push_temp.append(soup2.select(\".push-tag\")[z].text)\n",
    "                    reply_temp += \" \" + soup2.select(\".push-content\")[z].text\n",
    "                pos_tag.append(push_temp.count('推 '))\n",
    "                no_tag.append(push_temp.count('→ '))\n",
    "                neg_tag.append(push_temp.count('噓 '))\n",
    "                reply_content.append(reply_temp)\n",
    "                pbar.update(1)\n",
    "        except:\n",
    "            pass\n",
    "    start =  start - 1\n",
    "pbar.close()\n",
    "# DataFrame\n",
    "ptt_baseball = list(zip(author, title, time, content, pos_tag, no_tag, neg_tag, reply_content))\n",
    "df = pd.DataFrame(ptt_baseball, columns=['作者','標題','時間','內文','推文','箭頭','噓文','回文'])"
   ]
  },
  {
   "cell_type": "code",
   "execution_count": 3,
   "metadata": {
    "collapsed": false
   },
   "outputs": [
    {
     "name": "stdout",
     "output_type": "stream",
     "text": [
      "<class 'pandas.core.frame.DataFrame'>\n",
      "RangeIndex: 9978 entries, 0 to 9977\n",
      "Data columns (total 8 columns):\n",
      "作者    9978 non-null object\n",
      "標題    9978 non-null object\n",
      "時間    9978 non-null object\n",
      "內文    9978 non-null object\n",
      "推文    9978 non-null int64\n",
      "箭頭    9978 non-null int64\n",
      "噓文    9978 non-null int64\n",
      "回文    9978 non-null object\n",
      "dtypes: int64(3), object(5)\n",
      "memory usage: 623.7+ KB\n"
     ]
    }
   ],
   "source": [
    "df.info()"
   ]
  },
  {
   "cell_type": "code",
   "execution_count": 4,
   "metadata": {
    "collapsed": true
   },
   "outputs": [
    {
     "name": "stderr",
     "output_type": "stream",
     "text": [
      "/Users/andy/anaconda/lib/python3.6/site-packages/xlsxwriter/worksheet.py:830: UserWarning: Ignoring URL 'https://headlines.yahoo.co.jp/hl?a=20181202-00010006-chibatopi-l12%20千葉日報\n",
      "土佐犬3頭逃走、1頭捕まらず　小中学校「臨時休校」と緊急メール　九十九里\n",
      "\n",
      "二日午後二時左右\n",
      "千葉縣九十九里町片貝地區的街道上發生了車禍\n",
      "一輛小貨車的車斗上載運的三隻土佐犬逃脫\n",
      "\n",
      "千葉縣警方對附近進行搜索，還出動直升機\n",
      "已找到其中兩隻，但一隻不見蹤影\n",
      "\n",
      "到晚間九時，搜索行動暫停，三日早上再開始\n",
      "目前還沒有接獲有人被咬傷的情報\n",
      "\n",
      "據警方表示，三隻土佐犬都是一至兩歲的公狗\n",
      "體重約30～40公斤，體長約60公分，為了鬥犬用而培育的\n",
      "\n",
      "九十九里町使用廣播放送警告居民\n",
      "發現了請勿靠近\n",
      "\n",
      "同町的教育委員會也用電子郵件通知町内四所中小學的家長們\n",
      "：如果三日早上仍未發現失蹤的土佐犬，三日將臨時停課\n",
      "三日早上將會視情形再發送郵件通知。\n",
      "\n",
      "--\n",
      "' with link or location/anchor > 255 characters since it exceeds Excel's limit for URLS\n",
      "  force_unicode(url))\n"
     ]
    }
   ],
   "source": [
    "df.to_excel('PTT八卦.xlsx', index=False)"
   ]
  },
  {
   "cell_type": "code",
   "execution_count": null,
   "metadata": {
    "collapsed": true
   },
   "outputs": [],
   "source": []
  }
 ],
 "metadata": {
  "kernelspec": {
   "display_name": "Python 3",
   "language": "python",
   "name": "python3"
  },
  "language_info": {
   "codemirror_mode": {
    "name": "ipython",
    "version": 3
   },
   "file_extension": ".py",
   "mimetype": "text/x-python",
   "name": "python",
   "nbconvert_exporter": "python",
   "pygments_lexer": "ipython3",
   "version": "3.6.3"
  },
  "widgets": {
   "state": {
    "552d7030ee6640989c080cd9df797b8e": {
     "views": [
      {
       "cell_index": 14
      }
     ]
    }
   },
   "version": "1.2.0"
  }
 },
 "nbformat": 4,
 "nbformat_minor": 2
}
